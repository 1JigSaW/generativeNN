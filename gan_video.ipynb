{
 "cells": [
  {
   "cell_type": "code",
   "execution_count": 50,
   "metadata": {},
   "outputs": [],
   "source": [
    "import argparse\n",
    "import os\n",
    "import numpy as np\n",
    "import math\n",
    "from torchvision.transforms import ToTensor\n",
    "from torchvision.utils import save_image\n",
    "\n",
    "from torch.utils.data import DataLoader\n",
    "from torchvision import datasets\n",
    "from torch.autograd import Variable\n",
    "\n",
    "import torch.nn as nn\n",
    "import torch.nn.functional as F\n",
    "import torch"
   ]
  },
  {
   "cell_type": "code",
   "execution_count": 51,
   "metadata": {},
   "outputs": [],
   "source": [
    "class Generator(torch.nn.Module):\n",
    "    \n",
    "    def __init__(self, z_dim=10, im_dim=784, hidden_dim=128):\n",
    "        super(Generator, self).__init__()\n",
    "        self._g = torch.nn.Sequential(\n",
    "            self._g_block(z_dim, hidden_dim),\n",
    "            self._g_block(hidden_dim, hidden_dim * 2),\n",
    "            self._g_block(hidden_dim * 2, hidden_dim * 4),\n",
    "            self._g_block(hidden_dim * 4, hidden_dim * 8),\n",
    "            nn.Linear(hidden_dim * 8, im_dim),\n",
    "            nn.Sigmoid()\n",
    "        )\n",
    "        \n",
    "    def _g_block(self, input_dim, output_dim):\n",
    "        return nn.Sequential(\n",
    "            nn.Linear(input_dim, output_dim),\n",
    "            nn.BatchNorm1d(output_dim),\n",
    "            nn.ReLU(inplace=True)\n",
    "        )\n",
    "    \n",
    "    def forward(self, noise):\n",
    "        return self._g(noise)\n",
    "\n"
   ]
  },
  {
   "cell_type": "code",
   "execution_count": 52,
   "metadata": {},
   "outputs": [],
   "source": [
    "class Descriminator(torch.nn.Module):\n",
    "    \n",
    "    def __init__(self, z_dim=10, im_dim=784, hidden_dim=128):\n",
    "        super(Descriminator, self).__init__()\n",
    "        self._g = nn.Sequentuial(\n",
    "            self._g_block(im_dim, hidden_dim * 4),\n",
    "            self._g_block(hidden_dim * 4, hidden_dim * 2),\n",
    "            self._g_block(hidden_dim * 2, hidden_dim),\n",
    "            nn.Linear(hidden_dim, 1),\n",
    "        )\n",
    "        \n",
    "    def _d_block(self, input_dim, output_dim):\n",
    "        return nn.Sequential(\n",
    "            nn.Linear(input_dim, output_dim),\n",
    "            nn.LeakyReLU(0.2)\n",
    "        )\n",
    "    \n",
    "    def forward(self, image):\n",
    "        return self._g(image)"
   ]
  },
  {
   "cell_type": "code",
   "execution_count": 53,
   "metadata": {},
   "outputs": [],
   "source": [
    "class GAN:\n",
    "    \n",
    "    def __init__(self, z_dim, criterion, lr, device):\n",
    "        self._g = Generator(z_dim).to(device)\n",
    "        self._g_opt = torch.optim.Adam(self._g_parameters(), lr=lr)\n",
    "        \n",
    "        self._d = Discriminator().to(device)\n",
    "        self._d_opt = torch.optim.Adam(self._d.parameters(), lr=lr)\n",
    "        \n",
    "        self._z_dim = z_dim\n",
    "        self._criteriom = criterion\n",
    "        self._device = device\n",
    "        \n",
    "    def _calc_d_loss(self, batch_real, num_images):\n",
    "        z = gen_noise(num_images, self._z_dim, self._device)\n",
    "        fake_samples = self._g(z)\n",
    "        \n",
    "        y_fake_ = self._d(fake_samples.detach())\n",
    "        fake_loss = self._criterion(y_fake_, t.zeros_like(y_fake_))\n",
    "        \n",
    "        y_real_ = self._d(batch_real)\n",
    "        real_loss = self._criterion(y_real_, t.ones_like(y_real_))\n",
    "        \n",
    "        _d_loss = (fake_loss + real_loss) / 2\n",
    "        \n",
    "        return _d_loss\n",
    "    \n",
    "    def _calc_g_loss(self, num_images):\n",
    "        z = gen_noise(num_images, self._z_dim, self._device)\n",
    "        fake_samples = self._g(z)\n",
    "        \n",
    "        y_ = self._d(fake_samples)\n",
    "        _g_loss = self._criterion(y_, t.ones_like(y_))\n",
    "        \n",
    "        return _g_loss\n",
    "    \n",
    "    def _update_step(self, batch_real, flatten_batch=0):\n",
    "        num_images = len(batch_real)\n",
    "        if flatten_batch:\n",
    "            batch_real = batch_real.view(num_images, -1)\n",
    "        batch_real = batch_real.to(self._device)\n",
    "        \n",
    "        self._d_opt.zero_grad()\n",
    "        d_loss = self._calc_d_loss(batch_real, num_images)\n",
    "        d_loss.backward(retain_graph=True)\n",
    "        self._d_opt.step()\n",
    "        \n",
    "        self._g_opt.zerograd()\n",
    "        g_loss = self._calc_g_loss(num_images)\n",
    "        g_loss.backward()\n",
    "        self._g_opt.step()\n",
    "        \n",
    "        return d_loss.item(), g_loss.item()"
   ]
  },
  {
   "cell_type": "code",
   "execution_count": 54,
   "metadata": {},
   "outputs": [],
   "source": [
    "class Trainer:\n",
    "    \n",
    "    def __init__(self, data_loader, model, batch_size=128, device='cpu'):\n",
    "        self.batch_size = batch_size\n",
    "        self.dataloader = data_loader\n",
    "        self.model = model\n",
    "    \n",
    "    def run(self, n_epochs, display_epoch=10, **kwargs):\n",
    "        update_step = 9\n",
    "        epoch_update_step = 0\n",
    "        mean_g_loss = 0\n",
    "        mean_d_loss = 0\n",
    "        display_epoch = 10\n",
    "        device = config['device']\n",
    "        \n",
    "        for epoch in tqdm(range(n_epochs)):\n",
    "            for batch_real, labels in self.dataloader:\n",
    "                cur_batch_size = len(batch_real)\n",
    "                \n",
    "                d_loss, g_loss = self.model._update_step(batch_real,\n",
    "                                                        labels=labels, **kwargs)"
   ]
  },
  {
   "cell_type": "code",
   "execution_count": 55,
   "metadata": {},
   "outputs": [
    {
     "name": "stdout",
     "output_type": "stream",
     "text": [
      "1.9.1+cpu\n",
      "tensor([[1., 2., 3.],\n",
      "        [4., 5., 6.]])\n"
     ]
    },
    {
     "data": {
      "text/plain": [
       "False"
      ]
     },
     "execution_count": 55,
     "metadata": {},
     "output_type": "execute_result"
    }
   ],
   "source": [
    "print(torch.__version__)\n",
    "my_tensor = torch.tensor([[1, 2, 3], [4, 5, 6]], dtype=torch.float32, device=\"cpu\")\n",
    "print(my_tensor)\n",
    "torch.cuda.is_available()"
   ]
  },
  {
   "cell_type": "code",
   "execution_count": 56,
   "metadata": {},
   "outputs": [
    {
     "ename": "AttributeError",
     "evalue": "'GAN' object has no attribute '_g_parameters'",
     "output_type": "error",
     "traceback": [
      "\u001b[1;31m---------------------------------------------------------------------------\u001b[0m",
      "\u001b[1;31mAttributeError\u001b[0m                            Traceback (most recent call last)",
      "\u001b[1;32m<ipython-input-56-e28887b86ff4>\u001b[0m in \u001b[0;36m<module>\u001b[1;34m\u001b[0m\n\u001b[0;32m     12\u001b[0m     \u001b[1;34m'device'\u001b[0m\u001b[1;33m:\u001b[0m \u001b[1;34m'cpu'\u001b[0m\u001b[1;33m\u001b[0m\u001b[1;33m\u001b[0m\u001b[0m\n\u001b[0;32m     13\u001b[0m }\n\u001b[1;32m---> 14\u001b[1;33m \u001b[0mmodel\u001b[0m \u001b[1;33m=\u001b[0m \u001b[0mGAN\u001b[0m\u001b[1;33m(\u001b[0m\u001b[1;33m**\u001b[0m\u001b[0mconfig\u001b[0m\u001b[1;33m)\u001b[0m\u001b[1;33m\u001b[0m\u001b[1;33m\u001b[0m\u001b[0m\n\u001b[0m\u001b[0;32m     15\u001b[0m \u001b[1;33m\u001b[0m\u001b[0m\n\u001b[0;32m     16\u001b[0m \u001b[0mtrainer\u001b[0m \u001b[1;33m=\u001b[0m \u001b[0mTrainer\u001b[0m\u001b[1;33m(\u001b[0m\u001b[0mdataloader\u001b[0m\u001b[1;33m,\u001b[0m \u001b[0mmodel\u001b[0m\u001b[1;33m)\u001b[0m\u001b[1;33m\u001b[0m\u001b[1;33m\u001b[0m\u001b[0m\n",
      "\u001b[1;32m<ipython-input-53-a5b4d0ef495b>\u001b[0m in \u001b[0;36m__init__\u001b[1;34m(self, z_dim, criterion, lr, device)\u001b[0m\n\u001b[0;32m      3\u001b[0m     \u001b[1;32mdef\u001b[0m \u001b[0m__init__\u001b[0m\u001b[1;33m(\u001b[0m\u001b[0mself\u001b[0m\u001b[1;33m,\u001b[0m \u001b[0mz_dim\u001b[0m\u001b[1;33m,\u001b[0m \u001b[0mcriterion\u001b[0m\u001b[1;33m,\u001b[0m \u001b[0mlr\u001b[0m\u001b[1;33m,\u001b[0m \u001b[0mdevice\u001b[0m\u001b[1;33m)\u001b[0m\u001b[1;33m:\u001b[0m\u001b[1;33m\u001b[0m\u001b[1;33m\u001b[0m\u001b[0m\n\u001b[0;32m      4\u001b[0m         \u001b[0mself\u001b[0m\u001b[1;33m.\u001b[0m\u001b[0m_g\u001b[0m \u001b[1;33m=\u001b[0m \u001b[0mGenerator\u001b[0m\u001b[1;33m(\u001b[0m\u001b[0mz_dim\u001b[0m\u001b[1;33m)\u001b[0m\u001b[1;33m.\u001b[0m\u001b[0mto\u001b[0m\u001b[1;33m(\u001b[0m\u001b[0mdevice\u001b[0m\u001b[1;33m)\u001b[0m\u001b[1;33m\u001b[0m\u001b[1;33m\u001b[0m\u001b[0m\n\u001b[1;32m----> 5\u001b[1;33m         \u001b[0mself\u001b[0m\u001b[1;33m.\u001b[0m\u001b[0m_g_opt\u001b[0m \u001b[1;33m=\u001b[0m \u001b[0mtorch\u001b[0m\u001b[1;33m.\u001b[0m\u001b[0moptim\u001b[0m\u001b[1;33m.\u001b[0m\u001b[0mAdam\u001b[0m\u001b[1;33m(\u001b[0m\u001b[0mself\u001b[0m\u001b[1;33m.\u001b[0m\u001b[0m_g_parameters\u001b[0m\u001b[1;33m(\u001b[0m\u001b[1;33m)\u001b[0m\u001b[1;33m,\u001b[0m \u001b[0mlr\u001b[0m\u001b[1;33m=\u001b[0m\u001b[0mlr\u001b[0m\u001b[1;33m)\u001b[0m\u001b[1;33m\u001b[0m\u001b[1;33m\u001b[0m\u001b[0m\n\u001b[0m\u001b[0;32m      6\u001b[0m \u001b[1;33m\u001b[0m\u001b[0m\n\u001b[0;32m      7\u001b[0m         \u001b[0mself\u001b[0m\u001b[1;33m.\u001b[0m\u001b[0m_d\u001b[0m \u001b[1;33m=\u001b[0m \u001b[0mDiscriminator\u001b[0m\u001b[1;33m(\u001b[0m\u001b[1;33m)\u001b[0m\u001b[1;33m.\u001b[0m\u001b[0mto\u001b[0m\u001b[1;33m(\u001b[0m\u001b[0mdevice\u001b[0m\u001b[1;33m)\u001b[0m\u001b[1;33m\u001b[0m\u001b[1;33m\u001b[0m\u001b[0m\n",
      "\u001b[1;31mAttributeError\u001b[0m: 'GAN' object has no attribute '_g_parameters'"
     ]
    }
   ],
   "source": [
    "batch_size = 128\n",
    "dataloader = DataLoader(\n",
    "    datasets.MNIST('.', download=True, transform=ToTensor()),\n",
    "    batch_size=batch_size,\n",
    "    shuffle=True\n",
    ")\n",
    "\n",
    "config = {\n",
    "    'criterion': torch.nn.BCEWithLogitsLoss(),\n",
    "    'z_dim': 64,\n",
    "    'lr': 0.00001,\n",
    "    'device': 'cpu'\n",
    "}\n",
    "model = GAN(**config)\n",
    "\n",
    "trainer = Trainer(dataloader, model)\n",
    "trainer.run(n_epoch=50)"
   ]
  },
  {
   "cell_type": "code",
   "execution_count": null,
   "metadata": {},
   "outputs": [],
   "source": []
  },
  {
   "cell_type": "code",
   "execution_count": null,
   "metadata": {},
   "outputs": [],
   "source": []
  }
 ],
 "metadata": {
  "kernelspec": {
   "display_name": "Python 3",
   "language": "python",
   "name": "python3"
  },
  "language_info": {
   "codemirror_mode": {
    "name": "ipython",
    "version": 3
   },
   "file_extension": ".py",
   "mimetype": "text/x-python",
   "name": "python",
   "nbconvert_exporter": "python",
   "pygments_lexer": "ipython3",
   "version": "3.8.3"
  }
 },
 "nbformat": 4,
 "nbformat_minor": 4
}
