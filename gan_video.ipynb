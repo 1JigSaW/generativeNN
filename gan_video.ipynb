{
 "cells": [
  {
   "cell_type": "code",
   "execution_count": 1,
   "metadata": {},
   "outputs": [],
   "source": [
    "import argparse\n",
    "import os\n",
    "import numpy as np\n",
    "import math\n",
    "from torchvision.transforms import ToTensor\n",
    "from torchvision.utils import save_image\n",
    "\n",
    "from torch.utils.data import DataLoader\n",
    "from torchvision import datasets\n",
    "from torch.autograd import Variable\n",
    "\n",
    "import torch.nn as nn\n",
    "import torch.nn.functional as F\n",
    "import torch\n",
    "from tqdm import tqdm"
   ]
  },
  {
   "cell_type": "code",
   "execution_count": 2,
   "metadata": {},
   "outputs": [],
   "source": [
    "class Generator(torch.nn.Module):\n",
    "    \n",
    "    def __init__(self, z_dim=10, im_dim=784, hidden_dim=128):\n",
    "        super(Generator, self).__init__()\n",
    "        self._g = torch.nn.Sequential(\n",
    "            self._g_block(z_dim, hidden_dim),\n",
    "            self._g_block(hidden_dim, hidden_dim * 2),\n",
    "            self._g_block(hidden_dim * 2, hidden_dim * 4),\n",
    "            self._g_block(hidden_dim * 4, hidden_dim * 8),\n",
    "            nn.Linear(hidden_dim * 8, im_dim),\n",
    "            nn.Sigmoid()\n",
    "        )\n",
    "        \n",
    "    def _g_block(self, input_dim, output_dim):\n",
    "        return torch.nn.Sequential(\n",
    "            nn.Linear(input_dim, output_dim),\n",
    "            nn.BatchNorm1d(output_dim),\n",
    "            nn.ReLU(inplace=True)\n",
    "        )\n",
    "    \n",
    "    def forward(self, noise):\n",
    "        return self._g(noise)\n",
    "\n"
   ]
  },
  {
   "cell_type": "code",
   "execution_count": 3,
   "metadata": {},
   "outputs": [],
   "source": [
    "class Discriminator(torch.nn.Module):\n",
    "    \n",
    "    def __init__(self, im_dim=784, hidden_dim=128):\n",
    "        super(Discriminator, self).__init__()\n",
    "        self._g = torch.nn.Sequential(\n",
    "            self._d_block(im_dim, hidden_dim * 4),\n",
    "            self._d_block(hidden_dim * 4, hidden_dim * 2),\n",
    "            self._d_block(hidden_dim * 2, hidden_dim),\n",
    "            nn.Linear(hidden_dim, 1),\n",
    "        )\n",
    "        \n",
    "    def _d_block(self, input_dim, output_dim):\n",
    "        return torch.nn.Sequential(\n",
    "            nn.Linear(input_dim, output_dim),\n",
    "            nn.LeakyReLU(0.2)\n",
    "        )\n",
    "    \n",
    "    def forward(self, image):\n",
    "        return self._g(image)"
   ]
  },
  {
   "cell_type": "code",
   "execution_count": 4,
   "metadata": {},
   "outputs": [],
   "source": [
    "def gen_noise(noise_shape, n_samples, device='cpu'):\n",
    "    return torch.randn(noise_shape, n_samples).to(device)"
   ]
  },
  {
   "cell_type": "code",
   "execution_count": 5,
   "metadata": {},
   "outputs": [],
   "source": [
    "class GAN:\n",
    "    \n",
    "    def __init__(self, z_dim, criterion, lr, device):\n",
    "        self._g = Generator(z_dim).to(device)\n",
    "        self._g_opt = torch.optim.Adam(self._g.parameters(), lr=lr)\n",
    "        \n",
    "        self._d = Discriminator().to(device)\n",
    "        self._d_opt = torch.optim.Adam(self._d.parameters(), lr=lr)\n",
    "        \n",
    "        self._z_dim = z_dim\n",
    "        self._criterion = criterion\n",
    "        self._device = device\n",
    "        \n",
    "    def _calc_d_loss(self, batch_real, num_images):\n",
    "        z = gen_noise(num_images, self._z_dim, self._device)\n",
    "        fake_samples = self._g(z)\n",
    "        \n",
    "        y_fake_ = self._d(fake_samples.detach())\n",
    "        fake_loss = self._criterion(y_fake_, torch.zeros_like(y_fake_))\n",
    "        \n",
    "        y_real_ = self._d(batch_real)\n",
    "        real_loss = self._criterion(y_real_, torch.ones_like(y_real_))\n",
    "        \n",
    "        _d_loss = (fake_loss + real_loss) / 2\n",
    "        \n",
    "        return _d_loss\n",
    "    \n",
    "    def _calc_g_loss(self, num_images):\n",
    "        z = gen_noise(num_images, self._z_dim, self._device)\n",
    "        fake_samples = self._g(z)\n",
    "        \n",
    "        y_ = self._d(fake_samples)\n",
    "        _g_loss = self._criterion(y_, torch.ones_like(y_))\n",
    "        \n",
    "        return _g_loss\n",
    "    \n",
    "    def _update_step(self, batch_real, flatten_batch=128):\n",
    "        num_images = len(batch_real)\n",
    "        if flatten_batch:\n",
    "            batch_real = batch_real.view(num_images, -1)\n",
    "        batch_real = batch_real.to(self._device)\n",
    "        \n",
    "        self._d_opt.zero_grad()\n",
    "        d_loss = self._calc_d_loss(batch_real, num_images)\n",
    "        d_loss.backward(retain_graph=True)\n",
    "        self._d_opt.step()\n",
    "        \n",
    "        self._g_opt.zero_grad()\n",
    "        g_loss = self._calc_g_loss(num_images)\n",
    "        g_loss.backward()\n",
    "        self._g_opt.step()\n",
    "        \n",
    "        return d_loss.item(), g_loss.item()"
   ]
  },
  {
   "cell_type": "code",
   "execution_count": 6,
   "metadata": {},
   "outputs": [],
   "source": [
    "class Trainer:\n",
    "    \n",
    "    def __init__(self, data_loader, model, batch_size=128, device='cpu'):\n",
    "        self.batch_size = batch_size\n",
    "        self.dataloader = data_loader\n",
    "        self.model = model\n",
    "    \n",
    "    def run(self, n_epochs, display_epoch=10, **kwargs):\n",
    "        update_step = 9\n",
    "        epoch_update_step = 0\n",
    "        mean_g_loss = 0\n",
    "        mean_d_loss = 0\n",
    "        display_epoch = 10\n",
    "        device = config['device']\n",
    "        \n",
    "        for epoch in tqdm(range(n_epochs)):\n",
    "            for batch_real, labels in self.dataloader:\n",
    "                cur_batch_size = len(batch_real)\n",
    "                \n",
    "                d_loss, g_loss = self.model._update_step(batch_real, **kwargs)"
   ]
  },
  {
   "cell_type": "code",
   "execution_count": 7,
   "metadata": {},
   "outputs": [
    {
     "name": "stdout",
     "output_type": "stream",
     "text": [
      "1.9.1+cpu\n",
      "tensor([[1., 2., 3.],\n",
      "        [4., 5., 6.]])\n"
     ]
    },
    {
     "data": {
      "text/plain": [
       "False"
      ]
     },
     "execution_count": 7,
     "metadata": {},
     "output_type": "execute_result"
    }
   ],
   "source": [
    "print(torch.__version__)\n",
    "my_tensor = torch.tensor([[1, 2, 3], [4, 5, 6]], dtype=torch.float32, device=\"cpu\")\n",
    "print(my_tensor)\n",
    "torch.cuda.is_available()"
   ]
  },
  {
   "cell_type": "code",
   "execution_count": 8,
   "metadata": {},
   "outputs": [
    {
     "name": "stderr",
     "output_type": "stream",
     "text": [
      "C:\\ProgramData\\Anaconda3\\lib\\site-packages\\torchvision\\datasets\\mnist.py:498: UserWarning: The given NumPy array is not writeable, and PyTorch does not support non-writeable tensors. This means you can write to the underlying (supposedly non-writeable) NumPy array using the tensor. You may want to copy the array to protect its data or make it writeable before converting it to a tensor. This type of warning will be suppressed for the rest of this program. (Triggered internally at  ..\\torch\\csrc\\utils\\tensor_numpy.cpp:180.)\n",
      "  return torch.from_numpy(parsed.astype(m[2], copy=False)).view(*s)\n",
      "100%|██████████████████████████████████████████████████████████████████████████████████| 50/50 [30:19<00:00, 36.39s/it]\n"
     ]
    }
   ],
   "source": [
    "batch_size = 128\n",
    "dataloader = DataLoader(\n",
    "    datasets.MNIST('.', download=True, transform=ToTensor()),\n",
    "    batch_size=batch_size,\n",
    "    shuffle=True\n",
    ")\n",
    "\n",
    "config = {\n",
    "    'criterion': torch.nn.BCEWithLogitsLoss(),\n",
    "    'z_dim': 64,\n",
    "    'lr': 0.00001,\n",
    "    'device': 'cpu'\n",
    "}\n",
    "model = GAN(**config)\n",
    "\n",
    "trainer = Trainer(dataloader, model)\n",
    "trainer.run(n_epochs=50)"
   ]
  },
  {
   "cell_type": "code",
   "execution_count": 9,
   "metadata": {},
   "outputs": [
    {
     "name": "stdout",
     "output_type": "stream",
     "text": [
      "<__main__.Trainer object at 0x00000185A0A0C370>\n"
     ]
    }
   ],
   "source": [
    "print(trainer)"
   ]
  },
  {
   "cell_type": "code",
   "execution_count": null,
   "metadata": {},
   "outputs": [],
   "source": []
  }
 ],
 "metadata": {
  "kernelspec": {
   "display_name": "Python 3",
   "language": "python",
   "name": "python3"
  },
  "language_info": {
   "codemirror_mode": {
    "name": "ipython",
    "version": 3
   },
   "file_extension": ".py",
   "mimetype": "text/x-python",
   "name": "python",
   "nbconvert_exporter": "python",
   "pygments_lexer": "ipython3",
   "version": "3.8.3"
  }
 },
 "nbformat": 4,
 "nbformat_minor": 4
}
